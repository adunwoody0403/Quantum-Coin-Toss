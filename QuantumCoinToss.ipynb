{
 "cells": [
  {
   "cell_type": "markdown",
   "id": "59a94b79-0172-4529-9aff-0400ba9b8b17",
   "metadata": {
    "tags": []
   },
   "source": [
    "# Quantum Coin Toss\n",
    "\n",
    "<p>A basic and experimental introduction to quantum computing. This program serves to simulate a fair coin toss by utilizing the quantum superposition of a single qubit in order to determine a random result with 50% probability of each outcome.</p>\n",
    "\n",
    "<p>This is a python program and makes use of the Qiskit library in order to execute quantum operations. Using Qiskit we are able to run the quantum operations on both simulated hardware, as well as real hardware available within the IBM Quantum platform.</p>\n",
    "\n",
    "<p>This program can be run on the cloud via IBM Quantum Lab. It can also be run locally by installing Python and Qiskit. To run locally you will need an IBM Quantum account. <a href=\"https://qiskit.org/documentation/getting_started.html\">Click here for a more detailed guide.</a></p>"
   ]
  },
  {
   "cell_type": "code",
   "execution_count": 5,
   "id": "77285d8e-ddfe-4b2c-af47-0d72d53793e3",
   "metadata": {},
   "outputs": [
    {
     "name": "stdout",
     "output_type": "stream",
     "text": [
      "Heads. You win.\n"
     ]
    }
   ],
   "source": [
    "from qiskit import *\n",
    "from qiskit.providers.aer import QasmSimulator\n",
    "\n",
    "playerChoice = 0 # Heads\n",
    "#playerChoice = 1 # Tails\n",
    "\n",
    "backend = QasmSimulator()\n",
    "\n",
    "# Setup quantum circuit.\n",
    "circuit = QuantumCircuit(1, 1)\n",
    "circuit.h(0)\n",
    "circuit.measure([0], [0])\n",
    "compiledCircuit = transpile(circuit, backend)\n",
    "\n",
    "# Execute circuit.\n",
    "job = backend.run(compiledCircuit, shots=1)\n",
    "\n",
    "# Process results.\n",
    "result = job.result()\n",
    "counts = result.get_counts(compiledCircuit)\n",
    "\n",
    "# Print result.\n",
    "if '0' in counts.keys():\n",
    "    # Measurement is heads.\n",
    "    if playerChoice == 0: print(\"Heads. You win.\")\n",
    "    else: print (\"Heads. You lose.\")\n",
    "\n",
    "else:\n",
    "    # Measurement is tails.\n",
    "    if playerChoice == 0: print (\"Tails. You lose.\")\n",
    "    else: print (\"Tails. You win.\")\n",
    " "
   ]
  },
  {
   "cell_type": "code",
   "execution_count": 67,
   "id": "8937278d-3b86-4d17-b93a-30504741d5a3",
   "metadata": {},
   "outputs": [
    {
     "data": {
      "image/png": "[encoded data removed]",
      "text/plain": [
       "<Figure size 193.726x144.48 with 1 Axes>"
      ]
     },
     "execution_count": 67,
     "metadata": {},
     "output_type": "execute_result"
    }
   ],
   "source": [
    "# Draw circuit\n",
    "circuit.draw()"
   ]
  },
  {
   "cell_type": "code",
   "execution_count": 69,
   "id": "f66b4427-f673-4333-8f61-611d5e5dae43",
   "metadata": {},
   "outputs": [
    {
     "name": "stdout",
     "output_type": "stream",
     "text": [
      "aer_simulator\n",
      "aer_simulator_statevector\n",
      "aer_simulator_density_matrix\n",
      "aer_simulator_stabilizer\n",
      "aer_simulator_matrix_product_state\n",
      "aer_simulator_extended_stabilizer\n",
      "aer_simulator_unitary\n",
      "aer_simulator_superop\n",
      "qasm_simulator\n",
      "statevector_simulator\n",
      "unitary_simulator\n",
      "pulse_simulator\n"
     ]
    }
   ],
   "source": [
    "# Show backends available\n",
    "for b in Aer.backends():\n",
    "    print(b)"
   ]
  },
  {
   "cell_type": "code",
   "execution_count": 71,
   "id": "830cea58-61b3-44f4-b1f4-e1d3f10812a3",
   "metadata": {},
   "outputs": [
    {
     "name": "stderr",
     "output_type": "stream",
     "text": [
      "ibmqfactory.load_account:WARNING:2022-01-29 21:23:05,201: Credentials are already in use. The existing account in the session will be replaced.\n"
     ]
    },
    {
     "data": {
      "text/plain": [
       "<AccountProvider for IBMQ(hub='ibm-q', group='open', project='main')>"
      ]
     },
     "execution_count": 71,
     "metadata": {},
     "output_type": "execute_result"
    }
   ],
   "source": [
    "# Access real hardware\n",
    "from qiskit import IBMQ\n",
    "IBMQ.load_account()"
   ]
  },
  {
   "cell_type": "code",
   "execution_count": 72,
   "id": "adce2a89-7120-46ca-8162-74dc9214960a",
   "metadata": {},
   "outputs": [],
   "source": [
    "provider = IBMQ.get_provider(hub='ibm-q')\n",
    "for backend in provider.backends():\n",
    "    print(backend)"
   ]
  },
  {
   "cell_type": "code",
   "execution_count": 74,
   "id": "8ed01007-76b2-48f5-a8dd-046d8b716742",
   "metadata": {},
   "outputs": [
    {
     "name": "stdout",
     "output_type": "stream",
     "text": [
      "{'backend_name': 'ibmq_qasm_simulator', 'backend_version': '0.1.547', 'operational': True, 'pending_jobs': 2, 'status_msg': 'active'}\n",
      "{'backend_name': 'ibmq_armonk', 'backend_version': '2.4.26', 'operational': True, 'pending_jobs': 1, 'status_msg': 'active'}\n",
      "{'backend_name': 'ibmq_santiago', 'backend_version': '1.3.43', 'operational': False, 'pending_jobs': 2034, 'status_msg': 'maintenance'}\n",
      "{'backend_name': 'ibmq_bogota', 'backend_version': '1.6.17', 'operational': True, 'pending_jobs': 374, 'status_msg': 'active'}\n",
      "{'backend_name': 'ibmq_lima', 'backend_version': '1.0.27', 'operational': True, 'pending_jobs': 416, 'status_msg': 'active'}\n",
      "{'backend_name': 'ibmq_belem', 'backend_version': '1.0.30', 'operational': True, 'pending_jobs': 468, 'status_msg': 'internal'}\n",
      "{'backend_name': 'ibmq_quito', 'backend_version': '1.1.20', 'operational': True, 'pending_jobs': 475, 'status_msg': 'active'}\n",
      "{'backend_name': 'simulator_statevector', 'backend_version': '0.1.547', 'operational': True, 'pending_jobs': 2, 'status_msg': 'active'}\n",
      "{'backend_name': 'simulator_mps', 'backend_version': '0.1.547', 'operational': True, 'pending_jobs': 2, 'status_msg': 'active'}\n",
      "{'backend_name': 'simulator_extended_stabilizer', 'backend_version': '0.1.547', 'operational': True, 'pending_jobs': 2, 'status_msg': 'active'}\n",
      "{'backend_name': 'simulator_stabilizer', 'backend_version': '0.1.547', 'operational': True, 'pending_jobs': 2, 'status_msg': 'active'}\n",
      "{'backend_name': 'ibmq_manila', 'backend_version': '1.0.22', 'operational': True, 'pending_jobs': 508, 'status_msg': 'active'}\n"
     ]
    }
   ],
   "source": [
    "for backend in provider.backends():\n",
    "    print(backend.status().to_dict())"
   ]
  },
  {
   "cell_type": "code",
   "execution_count": 77,
   "id": "0917a339-0463-4c70-bea0-8e2c4be45b6a",
   "metadata": {},
   "outputs": [],
   "source": [
    "real_device = provider.get_backend('ibmq_bogota')\n",
    "properties = real_device.properties()\n",
    "coupling_map = real_device.configuration().coupling_map"
   ]
  },
  {
   "cell_type": "code",
   "execution_count": 78,
   "id": "ccc2d14b-5bab-447a-9b2f-8b5a7936aff3",
   "metadata": {},
   "outputs": [],
   "source": [
    "from qiskit.test.mock import FakeAthens\n",
    "athens = FakeAthens()"
   ]
  },
  {
   "cell_type": "code",
   "execution_count": 79,
   "id": "7bd4ec10-b0d0-48fd-aa32-aeca5c7f26e7",
   "metadata": {},
   "outputs": [
    {
     "data": {
      "text/plain": [
       "Result(backend_name='ibmq_bogota', backend_version='1.6.17', qobj_id='fe74f988-1cfb-44cd-8e7e-f9ff4a24a910', job_id='61f5b2b1806f5506557f4b48', success=True, results=[ExperimentResult(shots=1, success=True, meas_level=2, data=ExperimentResultData(counts={'0x1': 1}), header=QobjExperimentHeader(clbit_labels=[['c', 0]], creg_sizes=[['c', 1]], global_phase=0.7853981633974483, memory_slots=1, metadata={}, n_qubits=5, name='circuit-571', qreg_sizes=[['q', 5]], qubit_labels=[['q', 0], ['q', 1], ['q', 2], ['q', 3], ['q', 4]]))], date=2022-01-29 22:00:24+00:00, status=Successful completion, status=QobjHeader(backend_name='ibmq_bogota', backend_version='1.6.17'), execution_id='d8b3847c-814e-11ec-b3e0-b02628eaa3aa', time_taken=6.230922222137451, error=None, client_version={'qiskit': '0.34.1'})"
      ]
     },
     "execution_count": 79,
     "metadata": {},
     "output_type": "execute_result"
    }
   ],
   "source": [
    "# Run from real device\n",
    "\n",
    "job = real_device.run(transpile(circuit, real_device), shots=1)\n",
    "result = job.result()\n",
    "result"
   ]
  }
 ],
 "metadata": {
  "kernelspec": {
   "display_name": "Qiskit v0.35.0 (ipykernel)",
   "language": "python",
   "name": "python3"
  },
  "language_info": {
   "codemirror_mode": {
    "name": "ipython",
    "version": 3
   },
   "file_extension": ".py",
   "mimetype": "text/x-python",
   "name": "python",
   "nbconvert_exporter": "python",
   "pygments_lexer": "ipython3",
   "version": "3.8.13"
  },
  "widgets": {
   "application/vnd.jupyter.widget-state+json": {
    "state": {},
    "version_major": 2,
    "version_minor": 0
   }
  }
 },
 "nbformat": 4,
 "nbformat_minor": 5
}
